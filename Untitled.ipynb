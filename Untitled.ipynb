{
 "cells": [
  {
   "cell_type": "code",
   "execution_count": null,
   "id": "159d3a59",
   "metadata": {},
   "outputs": [],
   "source": [
    "import requests\n",
    "from bs4 import BeautifulSoup"
   ]
  },
  {
   "cell_type": "code",
   "execution_count": null,
   "id": "c349ca44",
   "metadata": {},
   "outputs": [],
   "source": [
    "headers = {\n",
    "    'accept': 'text/html,application/xhtml+xml,application/xml;q=0.9,image/webp,image/apng,*/*;q=0.8,application/signed-exchange;v=b3;q=0.9',\n",
    "    'accept-language': 'zh-CN,zh;q=0.9,en;q=0.8,en-GB;q=0.7,en-US;q=0.6',\n",
    "    'cache-control': 'max-age=0',\n",
    "    'if-modified-since': 'Fri, 15 Jul 2022 21:44:42 GMT',\n",
    "    'if-none-match': 'W/\"62d1dfca-3a58\"',\n",
    "    'referer': 'https://curlconverter.com/',\n",
    "    'sec-ch-ua': '\" Not A;Brand\";v=\"99\", \"Chromium\";v=\"102\", \"Microsoft Edge\";v=\"102\"',\n",
    "    'sec-ch-ua-mobile': '?0',\n",
    "    'sec-ch-ua-platform': '\"Linux\"',\n",
    "    'sec-fetch-dest': 'document',\n",
    "    'sec-fetch-mode': 'navigate',\n",
    "    'sec-fetch-site': 'cross-site',\n",
    "    'sec-fetch-user': '?1',\n",
    "    'upgrade-insecure-requests': '1',\n",
    "    'user-agent': 'Mozilla/5.0 (X11; Linux x86_64) AppleWebKit/537.36 (KHTML, like Gecko) Chrome/102.0.5005.63 Safari/537.36 Edg/102.0.1245.30',\n",
    "}"
   ]
  },
  {
   "cell_type": "code",
   "execution_count": null,
   "id": "0e738041",
   "metadata": {},
   "outputs": [],
   "source": []
  },
  {
   "cell_type": "code",
   "execution_count": 3,
   "id": "e3f1f73b",
   "metadata": {},
   "outputs": [
    {
     "name": "stdout",
     "output_type": "stream",
     "text": [
      "你看起来好像很好吃\n",
      "可可西里\n",
      "黑天鹅\n",
      "城市之光\n",
      "源代码\n",
      "真爱至上\n",
      "海边的曼彻斯特\n",
      "末路狂花\n",
      "波西米亚狂想曲\n",
      "雨人\n",
      "青蛇\n",
      "初恋这件小事\n",
      "人工智能\n",
      "爱乐之城\n",
      "恋恋笔记本\n",
      "终结者2：审判日\n",
      "虎口脱险\n",
      "疯狂的麦克斯4：狂暴之路\n",
      "芙蓉镇\n",
      "罗生门\n",
      "新龙门客栈\n",
      "无耻混蛋\n",
      "崖上的波妞\n",
      "千钧一发\n",
      "花束般的恋爱\n",
      "8.9\n",
      "8.9\n",
      "8.6\n",
      "9.3\n",
      "8.5\n",
      "8.5\n",
      "8.6\n",
      "8.9\n",
      "8.6\n",
      "8.7\n",
      "8.6\n",
      "8.5\n",
      "8.7\n",
      "8.4\n",
      "8.5\n",
      "8.8\n",
      "8.9\n",
      "8.7\n",
      "9.3\n",
      "8.8\n",
      "8.7\n",
      "8.7\n",
      "8.6\n",
      "8.8\n",
      "8.6\n"
     ]
    }
   ],
   "source": [
    "name=[]\n",
    "star=[]\n",
    "for i in range(10):\n",
    "    url=f\"https://movie.douban.com/top250?start={i*25}\"\n",
    "    r=requests.get(url,headers=headers)\n",
    "    soup=BeautifulSoup(r.text,\"html.parser\")\n",
    "    for title in soup.find_all('span',{'class':'title'}):\n",
    "        if '/' not in title.string:\n",
    "            print(title.string)\n",
    "    for star in soup.find_all('span',{'class':'rating_num'}):\n",
    "        print(star.string)"
   ]
  },
  {
   "cell_type": "code",
   "execution_count": 4,
   "id": "354fb540",
   "metadata": {},
   "outputs": [
    {
     "ename": "IndexError",
     "evalue": "list index out of range",
     "output_type": "error",
     "traceback": [
      "\u001b[0;31m---------------------------------------------------------------------------\u001b[0m",
      "\u001b[0;31mIndexError\u001b[0m                                Traceback (most recent call last)",
      "Cell \u001b[0;32mIn[4], line 2\u001b[0m\n\u001b[1;32m      1\u001b[0m \u001b[38;5;28;01mfor\u001b[39;00m i \u001b[38;5;129;01min\u001b[39;00m \u001b[38;5;28mrange\u001b[39m(\u001b[38;5;241m10\u001b[39m):\n\u001b[0;32m----> 2\u001b[0m     \u001b[38;5;28mprint\u001b[39m(\u001b[43mname\u001b[49m\u001b[43m[\u001b[49m\u001b[43mi\u001b[49m\u001b[43m]\u001b[49m)\n\u001b[1;32m      3\u001b[0m     \u001b[38;5;28mprint\u001b[39m(star[i])\n",
      "\u001b[0;31mIndexError\u001b[0m: list index out of range"
     ]
    }
   ],
   "source": [
    "for i in range(10):\n",
    "    print(name[i])\n",
    "    print(star[i])"
   ]
  },
  {
   "cell_type": "code",
   "execution_count": null,
   "id": "396c250d",
   "metadata": {},
   "outputs": [],
   "source": []
  },
  {
   "cell_type": "code",
   "execution_count": null,
   "id": "333a6a90",
   "metadata": {},
   "outputs": [],
   "source": []
  },
  {
   "cell_type": "code",
   "execution_count": null,
   "id": "96d747be",
   "metadata": {},
   "outputs": [],
   "source": []
  }
 ],
 "metadata": {
  "kernelspec": {
   "display_name": "Python 3 (ipykernel)",
   "language": "python",
   "name": "python3"
  },
  "language_info": {
   "codemirror_mode": {
    "name": "ipython",
    "version": 3
   },
   "file_extension": ".py",
   "mimetype": "text/x-python",
   "name": "python",
   "nbconvert_exporter": "python",
   "pygments_lexer": "ipython3",
   "version": "3.10.12"
  }
 },
 "nbformat": 4,
 "nbformat_minor": 5
}
