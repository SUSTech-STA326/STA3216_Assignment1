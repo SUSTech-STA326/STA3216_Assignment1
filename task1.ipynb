{
 "cells": [
  {
   "cell_type": "code",
   "execution_count": 2,
   "id": "36b716be",
   "metadata": {},
   "outputs": [],
   "source": [
    "# Imports\n",
    "import requests  # send request\n",
    "from bs4 import BeautifulSoup  # parse web pages\n",
    "import pandas as pd  # csv\n",
    "import time\n",
    "from time import sleep  # wait\n",
    "import numpy as np\n",
    "import matplotlib.pyplot as plt\n",
    "import seaborn as sns\n",
    "import json"
   ]
  },
  {
   "cell_type": "code",
   "execution_count": 3,
   "id": "3d059dcc",
   "metadata": {},
   "outputs": [
    {
     "name": "stdout",
     "output_type": "stream",
     "text": [
      "200\n",
      "肖申克的救赎: 9.7\n",
      "霸王别姬: 9.6\n",
      "阿甘正传: 9.5\n",
      "泰坦尼克号: 9.5\n",
      "千与千寻: 9.4\n",
      "这个杀手不太冷: 9.4\n",
      "美丽人生: 9.5\n",
      "星际穿越: 9.4\n",
      "盗梦空间: 9.4\n",
      "辛德勒的名单: 9.5\n",
      "楚门的世界: 9.4\n",
      "忠犬八公的故事: 9.4\n",
      "海上钢琴师: 9.3\n",
      "三傻大闹宝莱坞: 9.2\n",
      "放牛班的春天: 9.3\n",
      "机器人总动员: 9.3\n",
      "疯狂动物城: 9.2\n",
      "无间道: 9.3\n",
      "控方证人: 9.6\n",
      "大话西游之大圣娶亲: 9.2\n",
      "熔炉: 9.4\n",
      "教父: 9.3\n",
      "触不可及: 9.3\n",
      "当幸福来敲门: 9.2\n",
      "寻梦环游记: 9.1\n",
      "   movie_name movie_star\n",
      "0      肖申克的救赎        9.7\n",
      "1        霸王别姬        9.6\n",
      "2        阿甘正传        9.5\n",
      "3       泰坦尼克号        9.5\n",
      "4        千与千寻        9.4\n",
      "5     这个杀手不太冷        9.4\n",
      "6        美丽人生        9.5\n",
      "7        星际穿越        9.4\n",
      "8        盗梦空间        9.4\n",
      "9      辛德勒的名单        9.5\n",
      "10      楚门的世界        9.4\n",
      "11    忠犬八公的故事        9.4\n",
      "12      海上钢琴师        9.3\n",
      "13    三傻大闹宝莱坞        9.2\n",
      "14     放牛班的春天        9.3\n",
      "15     机器人总动员        9.3\n",
      "16      疯狂动物城        9.2\n",
      "17        无间道        9.3\n",
      "18       控方证人        9.6\n",
      "19  大话西游之大圣娶亲        9.2\n",
      "20         熔炉        9.4\n",
      "21         教父        9.3\n",
      "22       触不可及        9.3\n",
      "23     当幸福来敲门        9.2\n",
      "24      寻梦环游记        9.1\n",
      "CSV 文件已保存到 /data/lab/STA326/lab/STA326_Assignment1-main/output/MovieDouban.csv\n"
     ]
    }
   ],
   "source": [
    "headers = {\n",
    "    'authority': 'curlconverter.com',\n",
    "    'accept': 'text/html,application/xhtml+xml,application/xml;q=0.9,image/webp,image/apng,*/*;q=0.8,application/signed-exchange;v=b3;q=0.9',\n",
    "    'accept-language': 'zh-CN,zh;q=0.9,en;q=0.8,en-GB;q=0.7,en-US;q=0.6',\n",
    "    'cache-control': 'max-age=0',\n",
    "    'if-modified-since': 'Fri, 15 Jul 2022 21:44:42 GMT',\n",
    "    'if-none-match': 'W/\"62d1dfca-3a58\"',\n",
    "    'referer': 'https://curlconverter.com/',\n",
    "    'sec-ch-ua': '\" Not A;Brand\";v=\"99\", \"Chromium\";v=\"102\", \"Microsoft Edge\";v=\"102\"',\n",
    "    'sec-ch-ua-mobile': '?0',\n",
    "    'sec-ch-ua-platform': '\"Linux\"',\n",
    "    'sec-fetch-dest': 'document',\n",
    "    'sec-fetch-mode': 'navigate',\n",
    "    'sec-fetch-site': 'cross-site',\n",
    "    'sec-fetch-user': '?1',\n",
    "    'upgrade-insecure-requests': '1',\n",
    "    'user-agent': 'Mozilla/5.0 (X11; Linux x86_64) AppleWebKit/537.36 (KHTML, like Gecko) Chrome/102.0.5005.63 Safari/537.36 Edg/102.0.1245.30',\n",
    "}\n",
    "\n",
    "\n",
    "url = 'https://movie.douban.com/top250?start=0&filter='\n",
    "# 发送GET请求获取页面内容\n",
    "response = requests.get(url,headers = headers)\n",
    "print(response.status_code)\n",
    "# 确保页面成功加载\n",
    "if response.status_code == 200:\n",
    "    # 使用Beautiful Soup解析页面内容\n",
    "    soup = BeautifulSoup(response.text, 'html.parser')\n",
    "    #print(soup.prettify())\n",
    "    # 找到包含所有电影条目的列表\n",
    "    movie_list = soup.find_all('div', class_='item')\n",
    "     # 创建一个空列表用于存储电影数据\n",
    "    movies = []\n",
    "    # 遍历每个电影条目\n",
    "    for movie in movie_list:\n",
    "        # 获取电影名称\n",
    "        title = movie.find('span', class_='title').get_text()\n",
    "            \n",
    "        # 获取电影评分\n",
    "        rating = movie.find('span', class_='rating_num').get_text()\n",
    "            \n",
    "        # 将电影名称和评分存储到字典中\n",
    "        movie_data = {'movie_name': title, 'movie_star': rating}\n",
    "            \n",
    "        # 将字典添加到电影列表中\n",
    "        movies.append(movie_data)\n",
    "            \n",
    "        # 打印电影名称和评分\n",
    "        print(f'{title}: {rating}')\n",
    "        time.sleep(0.4)\n",
    "            \n",
    "         # 将电影数据列表转换为数据框\n",
    "        moviedf = pd.DataFrame(movies)\n",
    "        \n",
    "    # 返回数据框\n",
    "    print(moviedf)\n",
    "        \n",
    "    \n",
    "else:\n",
    "    print('Failed to fetch page')\n",
    "\n",
    "\n",
    "# 假设 moviedf 是你之前获取到的 DataFrame\n",
    "\n",
    "csv_name = \"MovieDouban.csv\"\n",
    "csv_dir = \"/data/lab/STA326/lab/STA326_Assignment1-main/output\"\n",
    "\n",
    "# 拼接完整的文件路径\n",
    "csv_path = f\"{csv_dir}/{csv_name}\"\n",
    "\n",
    "# 将 DataFrame 保存为 CSV 文件\n",
    "moviedf.to_csv(csv_path, index=False)\n",
    "\n",
    "print(f\"CSV 文件已保存到 {csv_path}\")\n"
   ]
  },
  {
   "cell_type": "code",
   "execution_count": 4,
   "id": "4b0fb3fc",
   "metadata": {},
   "outputs": [
    {
     "name": "stdout",
     "output_type": "stream",
     "text": [
      "所有评分的均值为: 9.376\n"
     ]
    }
   ],
   "source": [
    "# 计算评分的均值\n",
    "average_rating = moviedf['movie_star'].astype(float).mean()\n",
    "print(\"所有评分的均值为:\", average_rating)\n"
   ]
  },
  {
   "cell_type": "code",
   "execution_count": 5,
   "id": "e34334eb",
   "metadata": {},
   "outputs": [
    {
     "name": "stdout",
     "output_type": "stream",
     "text": [
      "评分的方差为: 0.02106666666666666\n",
      "评分的偏度为: 0.2777030642678005\n",
      "评分的峰度为: -0.17751055591197273\n"
     ]
    }
   ],
   "source": [
    "import pandas as pd\n",
    "\n",
    "# 假设 moviedf 是你之前获取到的 DataFrame\n",
    "\n",
    "# 计算评分的方差\n",
    "variance = moviedf['movie_star'].astype(float).var()\n",
    "print(\"评分的方差为:\", variance)\n",
    "\n",
    "# 计算评分的偏度\n",
    "skewness = moviedf['movie_star'].astype(float).skew()\n",
    "print(\"评分的偏度为:\", skewness)\n",
    "\n",
    "# 计算评分的峰度\n",
    "kurtosis = moviedf['movie_star'].astype(float).kurtosis()\n",
    "print(\"评分的峰度为:\", kurtosis)\n"
   ]
  },
  {
   "cell_type": "code",
   "execution_count": null,
   "id": "354819a4",
   "metadata": {},
   "outputs": [],
   "source": []
  }
 ],
 "metadata": {
  "kernelspec": {
   "display_name": "Python 3 (ipykernel)",
   "language": "python",
   "name": "python3"
  },
  "language_info": {
   "codemirror_mode": {
    "name": "ipython",
    "version": 3
   },
   "file_extension": ".py",
   "mimetype": "text/x-python",
   "name": "python",
   "nbconvert_exporter": "python",
   "pygments_lexer": "ipython3",
   "version": "3.10.12"
  }
 },
 "nbformat": 4,
 "nbformat_minor": 5
}
