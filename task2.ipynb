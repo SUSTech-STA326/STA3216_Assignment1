{
 "cells": [
  {
   "cell_type": "code",
   "execution_count": 1,
   "id": "647e464a",
   "metadata": {},
   "outputs": [],
   "source": [
    "# Imports\n",
    "import requests  # send request\n",
    "from bs4 import BeautifulSoup  # parse web pages\n",
    "import pandas as pd  # csv\n",
    "import time\n",
    "from time import sleep  # wait\n",
    "import numpy as np\n",
    "import matplotlib.pyplot as plt\n",
    "import seaborn as sns\n",
    "import json"
   ]
  },
  {
   "cell_type": "code",
   "execution_count": 3,
   "id": "2e271de6",
   "metadata": {},
   "outputs": [
    {
     "name": "stdout",
     "output_type": "stream",
     "text": [
      "     age                        email  gender\n",
      "0     60  gshoreson0@seattletimes.com    Male\n",
      "1     47           eweaben1@salon.com  Female\n",
      "2     27      akillerby2@gravatar.com    Male\n",
      "3     46            gsainz3@zdnet.com    Male\n",
      "4     72     bdanilewicz4@4shared.com    Male\n",
      "..   ...                          ...     ...\n",
      "995    3        pstroulgerrn@time.com  Female\n",
      "996   49  kbasnettro@seattletimes.com  Female\n",
      "997   75  pmortlockrp@liveinternet.ru    Male\n",
      "998   81         sphetterq@toplist.cz    Male\n",
      "999   70        jtyresrr@slashdot.org    Male\n",
      "\n",
      "[1000 rows x 3 columns]\n"
     ]
    }
   ],
   "source": [
    "# Load JSON file into DataFrame\n",
    "df_personal = pd.read_json(\"/data/lab/STA326/lab/STA326_Assignment1-main/data/task2/anon_user_dat.json\")\n",
    "\n",
    "# Display the DataFrame\n",
    "print(df_personal)\n"
   ]
  },
  {
   "cell_type": "code",
   "execution_count": 4,
   "id": "fdd143e5",
   "metadata": {},
   "outputs": [
    {
     "name": "stdout",
     "output_type": "stream",
     "text": [
      "     age                        email  gender       company\n",
      "0     60  gshoreson0@seattletimes.com    Male  seattletimes\n",
      "1     47           eweaben1@salon.com  Female         salon\n",
      "2     27      akillerby2@gravatar.com    Male      gravatar\n",
      "3     46            gsainz3@zdnet.com    Male         zdnet\n",
      "4     72     bdanilewicz4@4shared.com    Male       4shared\n",
      "..   ...                          ...     ...           ...\n",
      "995    3        pstroulgerrn@time.com  Female          time\n",
      "996   49  kbasnettro@seattletimes.com  Female  seattletimes\n",
      "997   75  pmortlockrp@liveinternet.ru    Male  liveinternet\n",
      "998   81         sphetterq@toplist.cz    Male       toplist\n",
      "999   70        jtyresrr@slashdot.org    Male      slashdot\n",
      "\n",
      "[1000 rows x 4 columns]\n"
     ]
    }
   ],
   "source": [
    "\n",
    "# 提取公司名称\n",
    "def extract_company(email):\n",
    "    return email.split('@')[1].split('.')[0]\n",
    "\n",
    "# 添加新列来存储公司名称\n",
    "df_personal['company'] = df_personal['email'].apply(extract_company)\n",
    "\n",
    "print(df_personal)\n"
   ]
  },
  {
   "cell_type": "code",
   "execution_count": 5,
   "id": "da575ab8",
   "metadata": {},
   "outputs": [
    {
     "name": "stdout",
     "output_type": "stream",
     "text": [
      "     company first_name  last_name  gender  age\n",
      "0    123-reg  Inglebert   Falconer    Male   42\n",
      "1        163     Rafael   Bedenham    Male   14\n",
      "2        163     Lemuel       Lind    Male   31\n",
      "3        163      Penny    Pennone  Female   45\n",
      "4        163       Elva   Crighton  Female   52\n",
      "..       ...        ...        ...     ...  ...\n",
      "995    zdnet      Guido    Comfort    Male   46\n",
      "996    zdnet      Biron  Malkinson    Male   48\n",
      "997   zimbio      Becka      Waryk  Female   27\n",
      "998   zimbio   Andreana    Ladewig  Female   34\n",
      "999   zimbio     Jobyna      Busek  Female   75\n",
      "\n",
      "[1000 rows x 5 columns]\n"
     ]
    }
   ],
   "source": [
    "# Load JSON file into DataFrame\n",
    "df_employee = pd.read_json(\"/data/lab/STA326/lab/STA326_Assignment1-main/data/task2/employee_info.json\")\n",
    "\n",
    "# Display the DataFrame\n",
    "print(df_employee)\n"
   ]
  },
  {
   "cell_type": "code",
   "execution_count": 6,
   "id": "7fe4c17d",
   "metadata": {},
   "outputs": [
    {
     "name": "stdout",
     "output_type": "stream",
     "text": [
      "     age                        email  gender       company  \\\n",
      "0     60  gshoreson0@seattletimes.com    Male  seattletimes   \n",
      "1     47           eweaben1@salon.com  Female         salon   \n",
      "2     27      akillerby2@gravatar.com    Male      gravatar   \n",
      "3     46            gsainz3@zdnet.com    Male         zdnet   \n",
      "4     72     bdanilewicz4@4shared.com    Male       4shared   \n",
      "..   ...                          ...     ...           ...   \n",
      "995    3        pstroulgerrn@time.com  Female          time   \n",
      "996   49  kbasnettro@seattletimes.com  Female  seattletimes   \n",
      "997   75  pmortlockrp@liveinternet.ru    Male  liveinternet   \n",
      "998   81         sphetterq@toplist.cz    Male       toplist   \n",
      "999   70        jtyresrr@slashdot.org    Male      slashdot   \n",
      "\n",
      "              first_name          last_name  \n",
      "0               [Gordon]        [DelaField]  \n",
      "1              [Elenore]          [Gravett]  \n",
      "2                 [Abbe]        [Stockdale]  \n",
      "3                [Guido]          [Comfort]  \n",
      "4                [Brody]         [Pinckard]  \n",
      "..                   ...                ...  \n",
      "995           [Penelopa]            [Roman]  \n",
      "996  [Anthiathia, Kandy]  [Baldwin, Cossam]  \n",
      "997               [Paco]      [Weatherburn]  \n",
      "998              [Sammy]           [Dymick]  \n",
      "999             [Josiah]         [Ayshford]  \n",
      "\n",
      "[1000 rows x 6 columns]\n"
     ]
    }
   ],
   "source": [
    "def employee_matcher(company, age, gender):\n",
    "    filtered_df = df_employee.loc[(df_employee['company'] == company) & \n",
    "                                  (df_employee['age'] == age) & \n",
    "                                  (df_employee['gender'] == gender)]\n",
    "    first_names = list(filtered_df['first_name'])\n",
    "    last_names = list(filtered_df['last_name'])\n",
    "    return first_names, last_names\n",
    "\n",
    "# Extract all the private data\n",
    "first_names = []\n",
    "last_names = []\n",
    "\n",
    "for i in range(len(df_personal)):\n",
    "    company = extract_company(df_personal.loc[i, 'email'])\n",
    "    age = df_personal.loc[i, 'age']\n",
    "    gender = df_personal.loc[i, 'gender']\n",
    "    fn, ln = employee_matcher(company, age, gender)\n",
    "    first_names.append(fn)\n",
    "    last_names.append(ln)\n",
    "\n",
    "# Add the names to the original 'secure' dataset\n",
    "df_personal['first_name'] = first_names\n",
    "df_personal['last_name'] = last_names\n",
    "\n",
    "# Print out the updated df_personal\n",
    "print(df_personal)\n"
   ]
  },
  {
   "cell_type": "code",
   "execution_count": null,
   "id": "8d9f9876",
   "metadata": {},
   "outputs": [],
   "source": []
  }
 ],
 "metadata": {
  "kernelspec": {
   "display_name": "Python 3 (ipykernel)",
   "language": "python",
   "name": "python3"
  },
  "language_info": {
   "codemirror_mode": {
    "name": "ipython",
    "version": 3
   },
   "file_extension": ".py",
   "mimetype": "text/x-python",
   "name": "python",
   "nbconvert_exporter": "python",
   "pygments_lexer": "ipython3",
   "version": "3.10.12"
  }
 },
 "nbformat": 4,
 "nbformat_minor": 5
}
