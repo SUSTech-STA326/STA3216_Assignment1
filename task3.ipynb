{
 "cells": [
  {
   "cell_type": "code",
   "execution_count": 36,
   "id": "46198881",
   "metadata": {},
   "outputs": [
    {
     "name": "stdout",
     "output_type": "stream",
     "text": [
      "Shape of df_steps: (11257, 3)\n"
     ]
    }
   ],
   "source": [
    "import pandas as pd\n",
    "\n",
    "# Load age_steps.csv into a DataFrame\n",
    "df_steps = pd.read_csv('/data/lab/STA326/lab/STA326_Assignment1-main/data/task3/age_steps.csv')\n",
    "\n",
    "# Display the shape of the DataFrame\n",
    "print(\"Shape of df_steps:\", df_steps.shape)\n"
   ]
  },
  {
   "cell_type": "code",
   "execution_count": 31,
   "id": "b34a1323",
   "metadata": {},
   "outputs": [
    {
     "name": "stdout",
     "output_type": "stream",
     "text": [
      "Shape of df_income: (13332, 4)\n"
     ]
    }
   ],
   "source": [
    "# Load incomes.json into a DataFrame\n",
    "df_income = pd.read_json('/data/lab/STA326/lab/STA326_Assignment1-main/data/task3/incomes.json')\n",
    "\n",
    "# Display the shape of the DataFrame\n",
    "print(\"Shape of df_income:\", df_income.shape)\n"
   ]
  },
  {
   "cell_type": "code",
   "execution_count": 32,
   "id": "39d22e33",
   "metadata": {},
   "outputs": [
    {
     "name": "stdout",
     "output_type": "stream",
     "text": [
      "      id    income\n",
      "0  84764  99807.16\n",
      "1  49337      0.00\n",
      "2  54204   5242.96\n",
      "3  41693      0.00\n",
      "4  98170  18077.78\n"
     ]
    }
   ],
   "source": [
    "# Drop the 'first_name' and 'last_name' columns from df_income\n",
    "df_income = df_income.drop(columns=['first_name', 'last_name'])\n",
    "\n",
    "# Display the resulting DataFrame\n",
    "print(df_income.head())\n"
   ]
  },
  {
   "cell_type": "code",
   "execution_count": 34,
   "id": "a2c7aaa4",
   "metadata": {},
   "outputs": [
    {
     "name": "stdout",
     "output_type": "stream",
     "text": [
      "<bound method NDFrame.head of           id  age  steps    income\n",
      "0      36859   48   6764  10056.43\n",
      "1      99794   39   4308  13869.47\n",
      "2      33364   36   6410  79634.92\n",
      "3      73874   35   7870  12369.03\n",
      "4      66956   56   7670  41150.18\n",
      "...      ...  ...    ...       ...\n",
      "10130  42474   28   7307  49128.60\n",
      "10131  61626   44   7752  20096.38\n",
      "10132  52336   41     -1      0.00\n",
      "10133  54972   44   7548  18350.20\n",
      "10134  17411   43   8765  88965.55\n",
      "\n",
      "[10135 rows x 4 columns]>\n"
     ]
    }
   ],
   "source": [
    "# Merge df_steps and df_income DataFrames\n",
    "df = df_steps.merge(df_income, on='id')\n",
    "print(df.head)\n",
    "\n"
   ]
  },
  {
   "cell_type": "code",
   "execution_count": 35,
   "id": "949951e8",
   "metadata": {},
   "outputs": [],
   "source": [
    "#顺序已经是对的了"
   ]
  },
  {
   "cell_type": "code",
   "execution_count": 37,
   "id": "fd641a60",
   "metadata": {},
   "outputs": [],
   "source": [
    "qlf_answer = 5"
   ]
  },
  {
   "cell_type": "code",
   "execution_count": 40,
   "id": "28edb7ae",
   "metadata": {},
   "outputs": [
    {
     "name": "stdout",
     "output_type": "stream",
     "text": [
      "451\n"
     ]
    }
   ],
   "source": [
    "# Count missing values in the 'income' column\n",
    "n_nan = df['income'].isnull().sum()\n",
    "print(n_nan)"
   ]
  },
  {
   "cell_type": "code",
   "execution_count": 43,
   "id": "f972a30a",
   "metadata": {},
   "outputs": [],
   "source": [
    "# Remove rows with missing values\n",
    "df.dropna(inplace=True)\n",
    "\n",
    "# Asserting the removal of missing values\n",
    "assert sum(pd.isnull(df['income'])) == 0\n",
    "assert df.shape == (9684, 4)\n"
   ]
  },
  {
   "cell_type": "code",
   "execution_count": 44,
   "id": "368b99b8",
   "metadata": {},
   "outputs": [],
   "source": [
    "q2c_answer = 4"
   ]
  },
  {
   "cell_type": "code",
   "execution_count": null,
   "id": "56bbefbd",
   "metadata": {},
   "outputs": [],
   "source": [
    "q2d_answer = 3"
   ]
  }
 ],
 "metadata": {
  "kernelspec": {
   "display_name": "Python 3 (ipykernel)",
   "language": "python",
   "name": "python3"
  },
  "language_info": {
   "codemirror_mode": {
    "name": "ipython",
    "version": 3
   },
   "file_extension": ".py",
   "mimetype": "text/x-python",
   "name": "python",
   "nbconvert_exporter": "python",
   "pygments_lexer": "ipython3",
   "version": "3.10.12"
  }
 },
 "nbformat": 4,
 "nbformat_minor": 5
}
