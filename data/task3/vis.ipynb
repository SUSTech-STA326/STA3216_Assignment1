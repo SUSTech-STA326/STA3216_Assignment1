{
 "cells": [
  {
   "cell_type": "code",
   "execution_count": 3,
   "metadata": {},
   "outputs": [],
   "source": [
    "import matplotlib.pyplot as plt\n",
    "import seaborn as sns\n",
    "import pandas as pd\n",
    "import numpy as np"
   ]
  },
  {
   "cell_type": "code",
   "execution_count": 4,
   "metadata": {},
   "outputs": [],
   "source": [
    "df = pd.read_csv(\"./data.csv\")"
   ]
  },
  {
   "cell_type": "code",
   "execution_count": 6,
   "metadata": {},
   "outputs": [
    {
     "data": {
      "text/plain": [
       "<bound method DataFrame.info of         Country  Functional assignment  Political institutions  \\\n",
       "0    Bangladesh                   4.13                    3.09   \n",
       "1      Ethiopia                   2.74                    3.07   \n",
       "2         Ghana                   3.17                    3.77   \n",
       "3         India                   2.27                    4.60   \n",
       "4     Indonesia                   4.89                    2.04   \n",
       "5         Kenya                   1.03                    2.41   \n",
       "6    Mozambique                   3.72                    3.64   \n",
       "7      Pakistan                   4.29                    4.03   \n",
       "8   Philippines                   4.62                    3.58   \n",
       "9        Rwanda                   2.12                    2.26   \n",
       "10      Senegal                   2.98                    3.86   \n",
       "11    Sri Lanka                   4.64                    2.10   \n",
       "12     Tanzania                   1.67                    1.38   \n",
       "13       Zambia                   1.72                    2.99   \n",
       "\n",
       "    Administrative institutions  Fiscal institutions  \\\n",
       "0                          3.27                 4.76   \n",
       "1                          3.21                 2.44   \n",
       "2                          4.76                 2.99   \n",
       "3                          4.43                 4.20   \n",
       "4                          3.62                 4.04   \n",
       "5                          2.32                 3.08   \n",
       "6                          3.36                 3.19   \n",
       "7                          2.16                 2.22   \n",
       "8                          4.28                 4.99   \n",
       "9                          2.25                 2.06   \n",
       "10                         3.81                 3.36   \n",
       "11                         2.69                 2.44   \n",
       "12                         2.90                 3.02   \n",
       "13                         0.81                 2.70   \n",
       "\n",
       "    Participation and accountability  \n",
       "0                               3.49  \n",
       "1                               3.10  \n",
       "2                               1.41  \n",
       "3                               3.88  \n",
       "4                               1.05  \n",
       "5                               3.36  \n",
       "6                               2.77  \n",
       "7                               2.26  \n",
       "8                               1.18  \n",
       "9                               3.29  \n",
       "10                              2.82  \n",
       "11                              2.88  \n",
       "12                              3.11  \n",
       "13                              0.48  >"
      ]
     },
     "execution_count": 6,
     "metadata": {},
     "output_type": "execute_result"
    }
   ],
   "source": [
    "df.info"
   ]
  },
  {
   "cell_type": "code",
   "execution_count": null,
   "metadata": {},
   "outputs": [],
   "source": []
  },
  {
   "cell_type": "code",
   "execution_count": 7,
   "metadata": {},
   "outputs": [],
   "source": [
    "FA = list(df['Functional assignment'])\n",
    "PI = list(df['Political institutions'])\n",
    "AI = list(df['Administrative institutions'])\n",
    "FI = list(df['Fiscal institutions'])\n",
    "PA = list(df['Participation and accountability'])"
   ]
  },
  {
   "cell_type": "code",
   "execution_count": 8,
   "metadata": {},
   "outputs": [
    {
     "name": "stdout",
     "output_type": "stream",
     "text": [
      "[3.49, 3.1, 1.41, 3.88, 1.05, 3.36, 2.77, 2.26, 1.18, 3.29, 2.82, 2.88, 3.11, 0.48]\n"
     ]
    }
   ],
   "source": [
    "print(PA)"
   ]
  },
  {
   "cell_type": "code",
   "execution_count": 9,
   "metadata": {},
   "outputs": [],
   "source": [
    "# 画柱状图\n",
    "def draw_histogram():\n",
    "    FA = list(df['Functional assignment'])\n",
    "    PI = list(df['Political institutions'])\n",
    "    AI = list(df['Administrative institutions'])\n",
    "    FI = list(df['Fiscal institutions'])\n",
    "    PA = list(df['Participation and accountability'])\n",
    " \n",
    "    x = np.arange(13)  # 总共有几组，就设置成几，我们这里有三组，所以设置为3\n",
    "    total_width, n = 0.5, 5  # 有多少个类型，只需更改n即可，比如这里我们对比了四个，那么就把n设成4\n",
    "    width = total_width / n\n",
    "    x = x - (total_width - width) / 2\n",
    "    plt.bar(x, FA, color=\"r\", width=width, label='FA')\n",
    "    plt.bar(x + width, PI, color=\"y\", width=width, label='PI')\n",
    "    plt.bar(x + 2 * width, AI, color=\"c\", width=width, label='AI')\n",
    "    plt.bar(x + 3 * width, FI, color=\"g\", width=width, label='FI')\n",
    "    plt.bar(x + 4 * width, PA, color=\"blue\", width=width, label='PA')\n",
    "    plt.title(\"LLT失败个数统计\")\n",
    "    plt.xlabel(\"日期\")\n",
    "    plt.ylabel(\"错误个数\")\n",
    "    plt.legend(loc=\"best\")\n",
    "    #plt.xticks([0, 1, 2, 3, 4], ['2021-7-26', '2021-7-27', '2021-7-28'])\n",
    "    my_y_ticks = np.arange(0, 120, 5)\n",
    "    plt.ylim((0.9, 0.95))\n",
    "    plt.yticks(my_y_ticks)\n",
    "\n",
    "    # 保存图片 注意 在show()之前  不然show会重新创建新的 图片\n",
    "    plt.savefig(\"./filename.png\")\n",
    "    plt.show()"
   ]
  },
  {
   "cell_type": "code",
   "execution_count": null,
   "metadata": {},
   "outputs": [],
   "source": []
  }
 ],
 "metadata": {
  "kernelspec": {
   "display_name": "base",
   "language": "python",
   "name": "python3"
  },
  "language_info": {
   "codemirror_mode": {
    "name": "ipython",
    "version": 3
   },
   "file_extension": ".py",
   "mimetype": "text/x-python",
   "name": "python",
   "nbconvert_exporter": "python",
   "pygments_lexer": "ipython3",
   "version": "3.10.9"
  }
 },
 "nbformat": 4,
 "nbformat_minor": 2
}
